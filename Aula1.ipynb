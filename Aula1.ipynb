{
 "cells": [
  {
   "cell_type": "markdown",
   "metadata": {},
   "source": [
    "### Aula 1\n",
    "\n",
    "#### *Tipos de Dados*\n",
    "https://docs.python.org/pt-br/3/library/stdtypes.html"
   ]
  },
  {
   "cell_type": "code",
   "execution_count": 1,
   "metadata": {},
   "outputs": [
    {
     "data": {
      "text/plain": [
       "1"
      ]
     },
     "execution_count": 1,
     "metadata": {},
     "output_type": "execute_result"
    }
   ],
   "source": [
    "# Inteiros (int)\n",
    "13\n",
    "0\n",
    "-130\n",
    "1_998\n",
    "\n",
    "# Decimais (float)\n",
    "-10023.5347\n",
    "1.0\n",
    "2.4e-3\n",
    "1.53\n",
    "0.0\n",
    "\n",
    "# Número complexo (complex)\n",
    "0j\n",
    "1j\n",
    "-1+10j\n",
    "-1.5j+100\n",
    "\n",
    "# Lógico ou booleano (bool)\n",
    "True\n",
    "False\n",
    "\n",
    "# Sequência de Caracteres ou String (str)\n",
    "\"\"\n",
    "\"Olá, mundo!\"\n",
    "\"1\"\n",
    "\" \"\n",
    "\"Exemplo de uma string de uma linha\"\n",
    "\"\"\"Exemplo de uma string,\n",
    "mas que tem duas linhas\"\"\"\n",
    "\n",
    "# Tupla (tuple)\n",
    "()\n",
    "(1,)\n",
    "(\"string\",1,1.0,())\n",
    "\n",
    "# Lista (list)\n",
    "[]\n",
    "[1,2,3,4,5,6]\n",
    "[\"Isso\",\"é\",\"uma\",\"lista\",\"de\",\"palavras\"]\n",
    "[\"string\",1.0,1j,[],(4,6)]\n",
    "\n",
    "# Dicionário\n",
    "{}\n",
    "{1:2, 3:4, 6:7}\n",
    "{\"dois\":2, \"quatro\":4, \"sete\":7}\n",
    "{\"lista mutavel\":[3,4,5]}\n",
    "\n",
    "# Conjuntos (set)\n",
    "set()\n",
    "{1,2,3,4,5,6}\n",
    "{\"string\",()}\n",
    "\n",
    "# Funções ou Métodos Embutidos (builtin_function_or_method)\n",
    "print\n",
    "sorted\n",
    "max\n",
    "sum\n",
    "bin\n",
    "\n",
    "# Tipo (type)\n",
    "type\n",
    "list\n",
    "str\n",
    "int\n",
    "float\n",
    "set\n",
    "\n",
    "# Método descritor (method_descriptor)\n",
    "list.append\n",
    "str.count\n",
    "int.bit_length\n",
    "float.is_integer\n",
    "dict.update"
   ]
  }
 ],
 "metadata": {
  "kernelspec": {
   "display_name": "Python 3",
   "language": "python",
   "name": "python3"
  },
  "language_info": {
   "codemirror_mode": {
    "name": "ipython",
    "version": 3
   },
   "file_extension": ".py",
   "mimetype": "text/x-python",
   "name": "python",
   "nbconvert_exporter": "python",
   "pygments_lexer": "ipython3",
   "version": "3.10.11"
  }
 },
 "nbformat": 4,
 "nbformat_minor": 2
}
