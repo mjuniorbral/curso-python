{
 "cells": [
  {
   "cell_type": "code",
   "execution_count": 2,
   "metadata": {},
   "outputs": [
    {
     "data": {
      "text/plain": [
       "<method 'update' of 'dict' objects>"
      ]
     },
     "execution_count": 2,
     "metadata": {},
     "output_type": "execute_result"
    }
   ],
   "source": [
    "# TIPOS DE DADOS NO PYTHON\n",
    "\n",
    "# Inteiros (int)\n",
    "13\n",
    "0\n",
    "-130\n",
    "1_998\n",
    "\n",
    "# Decimais (float)\n",
    "-10023.5347\n",
    "1.0\n",
    "2.4e-3\n",
    "1.53\n",
    "0.0\n",
    "\n",
    "# Número complexo (complex)\n",
    "0j\n",
    "1j\n",
    "-1+10j\n",
    "-1.5j+100\n",
    "\n",
    "# Lógico ou booleano (bool)\n",
    "True\n",
    "False\n",
    "\n",
    "# Sequência de Caracteres ou String (str)\n",
    "\"\"\n",
    "\"Olá, mundo!\"\n",
    "\"1\"\n",
    "\" \"\n",
    "\"Exemplo de uma string de uma linha\"\n",
    "\"\"\"Exemplo de uma string,\n",
    "mas que tem duas linhas\"\"\"\n",
    "\n",
    "# Tupla (tuple)\n",
    "()\n",
    "(1,)\n",
    "(\"string\",1,1.0,())\n",
    "\n",
    "# Lista (list)\n",
    "[]\n",
    "[1,2,3,4,5,6]\n",
    "[\"Isso\",\"é\",\"uma\",\"lista\",\"de\",\"palavras\"]\n",
    "[\"string\",1.0,1j,[],(4,6)]\n",
    "\n",
    "# Dicionário\n",
    "{}\n",
    "{1:2, 3:4, 6:7}\n",
    "{\"dois\":2, \"quatro\":4, \"sete\":7}\n",
    "{\"lista mutavel\":[3,4,5]}\n",
    "\n",
    "# Conjuntos (set)\n",
    "set()\n",
    "{1,2,3,4,5,6}\n",
    "{\"string\",()}\n",
    "\n",
    "# Funções ou Métodos Embutidos (builtin_function_or_method)\n",
    "print\n",
    "sorted\n",
    "max\n",
    "sum\n",
    "bin\n",
    "\n",
    "# Tipo (type)\n",
    "type\n",
    "list\n",
    "str\n",
    "int\n",
    "float\n",
    "set\n",
    "\n",
    "# Método descritor (method_descriptor)\n",
    "list.append\n",
    "str.count\n",
    "int.bit_length\n",
    "float.is_integer\n",
    "dict.update"
   ]
  },
  {
   "cell_type": "markdown",
   "metadata": {},
   "source": [
    "Códigos do teste"
   ]
  },
  {
   "cell_type": "code",
   "execution_count": 5,
   "metadata": {},
   "outputs": [
    {
     "name": "stdout",
     "output_type": "stream",
     "text": [
      "416\n"
     ]
    }
   ],
   "source": [
    "def f(x):\n",
    "   return str(x**2)\n",
    "f1 = f(2)\n",
    "f2 = f(4)\n",
    "print(f1+f2)"
   ]
  },
  {
   "cell_type": "code",
   "execution_count": 19,
   "metadata": {},
   "outputs": [
    {
     "name": "stdout",
     "output_type": "stream",
     "text": [
      "18\n"
     ]
    }
   ],
   "source": [
    "def f(x):\n",
    "   return x*2\n",
    "def g(y):\n",
    "    return y*3\n",
    "\n",
    "f = g\n",
    "\n",
    "f1 = f(2)\n",
    "f2 = f(4)\n",
    "print(f1+f2)"
   ]
  },
  {
   "cell_type": "code",
   "execution_count": 20,
   "metadata": {},
   "outputs": [
    {
     "name": "stdout",
     "output_type": "stream",
     "text": [
      "3\n",
      "3\n"
     ]
    }
   ],
   "source": [
    "a = 2\n",
    "a = a + 1\n",
    "print(a)\n",
    "b = a\n",
    "a = 1\n",
    "print(b)"
   ]
  },
  {
   "cell_type": "code",
   "execution_count": 25,
   "metadata": {},
   "outputs": [
    {
     "name": "stdout",
     "output_type": "stream",
     "text": [
      "3\n"
     ]
    }
   ],
   "source": [
    "def olaMundo():\n",
    "    return \"olá mundo\"\n",
    "def media(a,b,c):\n",
    "    return a+b+c/3\n",
    "print(int(media(1,1,3)))"
   ]
  }
 ],
 "metadata": {
  "kernelspec": {
   "display_name": "Python 3",
   "language": "python",
   "name": "python3"
  },
  "language_info": {
   "codemirror_mode": {
    "name": "ipython",
    "version": 3
   },
   "file_extension": ".py",
   "mimetype": "text/x-python",
   "name": "python",
   "nbconvert_exporter": "python",
   "pygments_lexer": "ipython3",
   "version": "3.10.11"
  }
 },
 "nbformat": 4,
 "nbformat_minor": 2
}
